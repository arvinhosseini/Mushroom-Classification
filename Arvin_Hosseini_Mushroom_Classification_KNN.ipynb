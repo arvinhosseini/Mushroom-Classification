{
  "nbformat": 4,
  "nbformat_minor": 0,
  "metadata": {
    "colab": {
      "provenance": []
    },
    "kernelspec": {
      "name": "python3",
      "display_name": "Python 3"
    }
  },
  "cells": [
    {
      "cell_type": "markdown",
      "source": [
        "# Homework 1\n",
        "\n",
        "**Name**: **[Arvin Hosseini]**\n",
        "\n",
        "**UID**: **[205594617]**"
      ],
      "metadata": {
        "id": "U28DL6ozLoGs"
      }
    },
    {
      "cell_type": "code",
      "source": [
        "# Download a processed version of the data\n",
        "!wget https://web.cs.ucla.edu/~zshi/files/CS146/mushroom.txt"
      ],
      "metadata": {
        "id": "4Ri1ZgvQa1mh",
        "outputId": "10e88ab0-c82c-45c5-9846-67049b3c1628",
        "colab": {
          "base_uri": "https://localhost:8080/"
        }
      },
      "execution_count": null,
      "outputs": [
        {
          "output_type": "stream",
          "name": "stdout",
          "text": [
            "--2022-10-26 06:23:26--  https://web.cs.ucla.edu/~zshi/files/CS146/mushroom.txt\n",
            "Resolving web.cs.ucla.edu (web.cs.ucla.edu)... 131.179.128.29\n",
            "Connecting to web.cs.ucla.edu (web.cs.ucla.edu)|131.179.128.29|:443... connected.\n",
            "HTTP request sent, awaiting response... 200 OK\n",
            "Length: 1264848 (1.2M) [text/plain]\n",
            "Saving to: ‘mushroom.txt.3’\n",
            "\n",
            "mushroom.txt.3      100%[===================>]   1.21M  3.03MB/s    in 0.4s    \n",
            "\n",
            "2022-10-26 06:23:26 (3.03 MB/s) - ‘mushroom.txt.3’ saved [1264848/1264848]\n",
            "\n"
          ]
        }
      ]
    },
    {
      "cell_type": "code",
      "metadata": {
        "id": "55EocyDPsWIb"
      },
      "source": [
        "# Use only the provided packages\n",
        "import sys\n",
        "import math\n",
        "import csv\n",
        "import pandas\n",
        "import os\n",
        "import random\n",
        "import numpy as np\n",
        "from collections import Counter\n",
        "from dataclasses import dataclass\n",
        "\n",
        "import matplotlib as mpl\n",
        "import matplotlib.pyplot as plt\n",
        "\n",
        "from sklearn.tree import DecisionTreeClassifier\n",
        "from sklearn.neighbors import KNeighborsClassifier\n",
        "from sklearn.model_selection import cross_val_score\n",
        "from sklearn.model_selection import cross_validate\n",
        "from sklearn import metrics\n",
        "from sklearn.preprocessing import StandardScaler\n",
        "from sklearn.model_selection import StratifiedShuffleSplit\n",
        "\n",
        "mpl.lines.width = 2\n",
        "mpl.axes.labelsize = 14"
      ],
      "execution_count": null,
      "outputs": []
    },
    {
      "cell_type": "code",
      "metadata": {
        "id": "dxpkWVRetDgo"
      },
      "source": [
        "class Classifier(object) :\n",
        "    \"\"\"\n",
        "    Classifier interface.\n",
        "    \"\"\"\n",
        "\n",
        "    def fit(self, X, y):\n",
        "        raise NotImplementedError()\n",
        "\n",
        "    def predict(self, X):\n",
        "        raise NotImplementedError()\n",
        "\n",
        "\n",
        "class MajorityVoteClassifier(Classifier) :\n",
        "\n",
        "    def __init__(self) :\n",
        "        \"\"\"\n",
        "        A classifier that always predicts the majority class.\n",
        "\n",
        "        Attributes\n",
        "        --------------------\n",
        "            prediction_ -- majority class\n",
        "        \"\"\"\n",
        "        self.prediction_ = None\n",
        "\n",
        "    def fit(self, X, y) :\n",
        "        \"\"\"\n",
        "        Build a majority vote classifier from the training set (X, y).\n",
        "\n",
        "        Parameters\n",
        "        --------------------\n",
        "            X    -- numpy array of shape (n,d), samples\n",
        "            y    -- numpy array of shape (n,), target classes\n",
        "\n",
        "        Returns\n",
        "        --------------------\n",
        "            self -- an instance of self\n",
        "        \"\"\"\n",
        "        majority_val = Counter(y).most_common(1)[0][0]\n",
        "        self.prediction_ = majority_val\n",
        "        return self\n",
        "\n",
        "    def predict(self, X) :\n",
        "        \"\"\"\n",
        "        Predict class values.\n",
        "\n",
        "        Parameters\n",
        "        --------------------\n",
        "            X    -- numpy array of shape (n,d), samples\n",
        "\n",
        "        Returns\n",
        "        --------------------\n",
        "            y    -- numpy array of shape (n,), predicted classes\n",
        "        \"\"\"\n",
        "        if self.prediction_ is None :\n",
        "            raise Exception(\"Classifier not initialized. Perform a fit first.\")\n",
        "\n",
        "        n,d = X.shape\n",
        "        y = [self.prediction_] * n\n",
        "        return y"
      ],
      "execution_count": null,
      "outputs": []
    },
    {
      "cell_type": "code",
      "metadata": {
        "id": "yefbwe8EvH-V"
      },
      "source": [
        "class RandomClassifier(Classifier) :\n",
        "\n",
        "    def __init__(self) :\n",
        "        \"\"\"\n",
        "        A classifier that predicts according to the distribution of the classes.\n",
        "\n",
        "        Attributes\n",
        "        --------------------\n",
        "            probabilities_ -- class distribution dict (key = class, val = probability of class)\n",
        "        \"\"\"\n",
        "        self.probabilities_ = None\n",
        "\n",
        "    def fit(self, X, y) :\n",
        "        \"\"\"\n",
        "        Build a random classifier from the training set (X, y).\n",
        "\n",
        "        Parameters\n",
        "        --------------------\n",
        "            X    -- numpy array of shape (n,d), samples\n",
        "            y    -- numpy array of shape (n,), target classes\n",
        "\n",
        "        Returns\n",
        "        --------------------\n",
        "            self -- an instance of self\n",
        "        \"\"\"\n",
        "\n",
        "        \n",
        "        # set self.probabilities_ according to the training set\n",
        "\n",
        "        self.probabilities_ = dict()\n",
        "        #count the number of times y is 1 and divide by nunber of y's to set average for prob [1]\n",
        "        self.probabilities_[1] = np.sum(y) / y.shape[0]\n",
        "        #subtract self.probabilities_[1] from 1 in order to find the probablity of y being 0\n",
        "        self.probabilities_[0] = 1- self.probabilities_[1]\n",
        "       \n",
        "\n",
        "        \n",
        "\n",
        "        return self\n",
        "\n",
        "    def predict(self, X, seed=1234) :\n",
        "        \"\"\"\n",
        "        Predict class values.\n",
        "\n",
        "        Parameters\n",
        "        --------------------\n",
        "            X    -- numpy array of shape (n,d), samples\n",
        "            seed -- integer, random seed\n",
        "\n",
        "        Returns\n",
        "        --------------------\n",
        "            y    -- numpy array of shape (n,), predicted classes\n",
        "        \"\"\"\n",
        "        if self.probabilities_ is None :\n",
        "            raise Exception(\"Classifier not initialized. Perform a fit first.\")\n",
        "        np.random.seed(seed)\n",
        "\n",
        "        # predict the class for each test example\n",
        "        # hint: use np.random.choice (be careful of the parameters)\n",
        "\n",
        "        #set y to an empty array the same size as the amount of mushrooms\n",
        "        y = np.empty((X.shape[0]))\n",
        "        for i in range(X.shape[0]): # for each example set the ith value of y to either 0 or 1 based on the proabalities found earlier\n",
        "          curr_y = np.random.choice([0, 1], p=[self.probabilities_[0], self.probabilities_[1]])\n",
        "          y[i] = curr_y\n",
        "\n",
        "\n",
        "        return y\n"
      ],
      "execution_count": null,
      "outputs": []
    },
    {
      "cell_type": "code",
      "metadata": {
        "id": "7m9qVosFwbAK"
      },
      "source": [
        "def plot_histograms(X, y, Xnames, yname) :\n",
        "    n,d = X.shape  # n = number of examples, d =  number of features\n",
        "    fig = plt.figure(figsize=(20,20))\n",
        "    ncol = 3\n",
        "    nrow = d // ncol + 1\n",
        "    for i in range(d) :\n",
        "        fig.add_subplot (nrow,ncol,i+1)\n",
        "        data, bins, align, labels = plot_histogram(X[:,i], y, Xname=Xnames[i], yname=yname, show = False)\n",
        "        n, bins, patches = plt.hist(data, bins=bins, align=align, alpha=0.5, label=labels)\n",
        "        plt.xlabel(Xnames[i])\n",
        "        plt.ylabel('Frequency')\n",
        "        plt.legend()\n",
        "\n",
        "    plt.savefig ('histograms.pdf')\n",
        "\n",
        "\n",
        "def plot_histogram(X, y, Xname, yname, show = True) :\n",
        "    \"\"\"\n",
        "    Plots histogram of values in X grouped by y.\n",
        "\n",
        "    Parameters\n",
        "    --------------------\n",
        "        X     -- numpy array of shape (n,d), feature values\n",
        "        y     -- numpy array of shape (n,), target classes\n",
        "        Xname -- string, name of feature\n",
        "        yname -- string, name of target\n",
        "    \"\"\"\n",
        "\n",
        "    # set up data for plotting\n",
        "    targets = sorted(set(y))\n",
        "    data = []; labels = []\n",
        "    for target in targets :\n",
        "        features = [X[i] for i in range(len(y)) if y[i] == target]\n",
        "        data.append(features)\n",
        "        labels.append('%s = %s' % (yname, target))\n",
        "\n",
        "    # set up histogram bins\n",
        "    features = set(X)\n",
        "    nfeatures = len(features)\n",
        "    test_range = list(range(int(math.floor(min(features))), int(math.ceil(max(features)))+1))\n",
        "    if nfeatures < 10 and sorted(features) == test_range:\n",
        "        bins = test_range + [test_range[-1] + 1] # add last bin\n",
        "        align = 'left'\n",
        "    else :\n",
        "        bins = 10\n",
        "        align = 'mid'\n",
        "\n",
        "    # plot\n",
        "    if show == True:\n",
        "        plt.figure()\n",
        "        n, bins, patches = plt.hist(data, bins=bins, align=align, alpha=0.5, label=labels)\n",
        "        plt.xlabel(Xname)\n",
        "        plt.ylabel('Frequency')\n",
        "        plt.legend()\n",
        "        plt.show()\n",
        "\n",
        "    return data, bins, align, labels"
      ],
      "execution_count": null,
      "outputs": []
    },
    {
      "cell_type": "code",
      "metadata": {
        "id": "1Z8oJrMgxc4_"
      },
      "source": [
        "def error(clf, X, y, ntrials=1, test_size=0.0) :\n",
        "    \"\"\"\n",
        "    Computes the classifier error over a random split of the data,\n",
        "    averaged over ntrials runs.\n",
        "\n",
        "    Parameters\n",
        "    --------------------\n",
        "        clf         -- classifier\n",
        "        X           -- numpy array of shape (n,d), features values\n",
        "        y           -- numpy array of shape (n,), target classes\n",
        "        ntrials     -- integer, number of trials\n",
        "\n",
        "    Returns\n",
        "    --------------------\n",
        "        train_error -- float, training error\n",
        "        test_error  -- float, test error\n",
        "        f1_score    -- float, test \"micro\" averaged f1 score\n",
        "    \"\"\"\n",
        "\n",
        "   \n",
        "    # compute cross-validation error using StratifiedShuffleSplit over ntrials\n",
        "    # hint: use StratifiedShuffleSplit (be careful of the parameters)\n",
        "    \n",
        "    #use StartifiedShuffleSplit from sklearn with random state of 0\n",
        "    sss = StratifiedShuffleSplit(n_splits = ntrials, test_size = test_size, random_state=0)\n",
        "\n",
        "    train_error = 0\n",
        "    test_error = 0\n",
        "    f1_score = 0\n",
        "\n",
        "    train_error_total = 0\n",
        "    test_error_total = 0\n",
        "    f1_score_total = 0\n",
        "\n",
        "    for train_index, test_index in sss.split(X,y):  \n",
        "      #create training and test set\n",
        "      X_train, X_test = X[train_index], X[test_index] \n",
        "      y_train, y_test = y[train_index], y[test_index]\n",
        "      #fit the training data set\n",
        "      clf.fit(X_train, y_train)\n",
        "      y_train_pred = clf.predict(X_train)        # take the classifier and run it on the training data\n",
        "      y_test_pred = clf.predict(X_test)          # take the classifier and run it on the test data\n",
        "      #sum the train and test errors along with all the f1 scores\n",
        "      train_error_total += 1 - metrics.accuracy_score(y_train, y_train_pred, normalize=True)\n",
        "      test_error_total += 1 - metrics.accuracy_score(y_test, y_test_pred, normalize=True)\n",
        "      f1_score_total += metrics.f1_score(y_test, y_test_pred, average = 'micro')\n",
        "\n",
        "    #find the averages\n",
        "    train_error = train_error_total / ntrials\n",
        "    test_error = test_error_total / ntrials\n",
        "    f1_score = f1_score_total / ntrials\n",
        "\n",
        "\n",
        "\n",
        "    \n",
        "\n",
        "    return train_error, test_error, f1_score\n"
      ],
      "execution_count": null,
      "outputs": []
    },
    {
      "cell_type": "code",
      "source": [
        "# Load the Mushroom dataset\n",
        "\n",
        "@dataclass\n",
        "class Dataset:\n",
        "    \"\"\"Class for the dataset.\"\"\"\n",
        "    X: np.array\n",
        "    y: np.array\n",
        "    Xnames: list\n",
        "    yname: str\n",
        "\n",
        "def load_data(data_file='mushroom.txt'):\n",
        "    \"\"\"Load data and map strings to numbers.\"\"\"\n",
        "    data = pandas.read_csv(data_file).to_numpy()\n",
        "    n = data.shape[0]\n",
        "    d = data.shape[1] - 1\n",
        "    # Map strings to numbers\n",
        "    X = np.zeros((n, d))\n",
        "    for i in range(d):\n",
        "        mapping = {name: j for j, name in enumerate(sorted(set(data[:, i+1])))}\n",
        "        for j in range(n):\n",
        "            X[j, i] = mapping[data[j, i+1]]\n",
        "    mapping = {'EDIBLE': 1, 'POISONOUS': 0}\n",
        "    y = np.zeros(n, dtype=np.int32)\n",
        "    for j in range(n):\n",
        "        y[j] = mapping[data[j, 0]]\n",
        "    #0 'cap-shape', \n",
        "    #1 'cap-surface', \n",
        "    #2 'cap-color', \n",
        "    #3 'bruises', \n",
        "    #4 'odor',      \n",
        "    #5 'gill-attachment', \n",
        "    #6 'gill-spacing', \n",
        "    #7 'gill-size', \n",
        "    #8 'gill-color',\n",
        "    #9 'stalk-shape', \n",
        "    #10 'stalk-root', \n",
        "    #11 'stalk-surface-above-ring', \n",
        "    #12 'stalk-surface-below-ring',\n",
        "    #13 'stalk-color-above-ring',\n",
        "    #14 'stalk-color-below-ring',\n",
        "    #15 'veil-type',\n",
        "    #16 'veil-color',\n",
        "    #17 'ring-number',\n",
        "    #18 'ring-type',\n",
        "    #19 'spore-print-color',\n",
        "    #20 'population',\n",
        "    #21 'habitat',        \n",
        "    Xnames = [\n",
        "        'cap-shape', \n",
        "        'cap-surface', \n",
        "        'cap-color', \n",
        "        'bruises', \n",
        "        'odor',\n",
        "        'gill-attachment', \n",
        "        'gill-spacing', \n",
        "        'gill-size', \n",
        "        'gill-color',\n",
        "        'stalk-shape', \n",
        "        'stalk-root', \n",
        "        'stalk-surface-above-ring', \n",
        "        'stalk-surface-below-ring',\n",
        "        'stalk-color-above-ring',\n",
        "        'stalk-color-below-ring',\n",
        "        'veil-type',\n",
        "        'veil-color',\n",
        "        'ring-number',\n",
        "        'ring-type',\n",
        "        'spore-print-color',\n",
        "        'population',\n",
        "        'habitat',\n",
        "    ]\n",
        "    # We only use these 6 features\n",
        "    features = [0, 2, 8, 10, 15, 17]\n",
        "    X = np.take(X, features, axis=-1)\n",
        "    Xnames = [Xnames[i] for i in features]\n",
        "    return Dataset(X=X, y=y, Xnames=Xnames, yname='edible')\n",
        "\n",
        "data = load_data()\n",
        "\n",
        "X = data.X; Xnames = data.Xnames\n",
        "y = data.y; yname = data.yname\n",
        "n,d = X.shape  # n = number of examples, d =  number of features\n",
        "\n",
        "\n",
        "# Shuffle the data for cross-validation\n",
        "import random\n",
        "idx = list(range(n))\n",
        "random.seed(0)\n",
        "random.shuffle(idx)\n",
        "X = np.take(X, idx, axis=0)\n",
        "y = np.take(y, idx, axis=0)"
      ],
      "metadata": {
        "id": "ndGimSPsbwl_"
      },
      "execution_count": null,
      "outputs": []
    },
    {
      "cell_type": "code",
      "source": [
        "plt.figure()\n",
        "# Plot histograms of each feature\n",
        "print('Plotting...')\n",
        "plot_histograms (X, y, Xnames, yname)"
      ],
      "metadata": {
        "id": "d9O041QeepGK",
        "colab": {
          "base_uri": "https://localhost:8080/",
          "height": 892
        },
        "outputId": "40c16550-87fd-41ec-f94d-fd9d94b46d49"
      },
      "execution_count": null,
      "outputs": [
        {
          "output_type": "stream",
          "name": "stdout",
          "text": [
            "Plotting...\n"
          ]
        },
        {
          "output_type": "stream",
          "name": "stderr",
          "text": [
            "/usr/local/lib/python3.7/dist-packages/numpy/core/fromnumeric.py:3208: VisibleDeprecationWarning: Creating an ndarray from ragged nested sequences (which is a list-or-tuple of lists-or-tuples-or ndarrays with different lengths or shapes) is deprecated. If you meant to do this, you must specify 'dtype=object' when creating the ndarray.\n",
            "  return asarray(a).size\n",
            "/usr/local/lib/python3.7/dist-packages/matplotlib/cbook/__init__.py:1376: VisibleDeprecationWarning: Creating an ndarray from ragged nested sequences (which is a list-or-tuple of lists-or-tuples-or ndarrays with different lengths or shapes) is deprecated. If you meant to do this, you must specify 'dtype=object' when creating the ndarray.\n",
            "  X = np.atleast_1d(X.T if isinstance(X, np.ndarray) else np.asarray(X))\n"
          ]
        },
        {
          "output_type": "display_data",
          "data": {
            "text/plain": [
              "<Figure size 432x288 with 0 Axes>"
            ]
          },
          "metadata": {}
        },
        {
          "output_type": "display_data",
          "data": {
            "text/plain": [
              "<Figure size 1440x1440 with 6 Axes>"
            ],
            "image/png": "[encoded data removed]"
          },
          "metadata": {
            "needs_background": "light"
          }
        }
      ]
    },
    {
      "cell_type": "code",
      "source": [
        "# train Majority Vote classifier on data\n",
        "print('Classifying using Majority Vote...')\n",
        "clf = MajorityVoteClassifier() # create MajorityVote classifier, which includes all model parameters\n",
        "clf.fit(X, y)                  # fit training data using the classifier\n",
        "y_pred = clf.predict(X)        # take the classifier and run it on the training data\n",
        "train_error = 1 - metrics.accuracy_score(y, y_pred, normalize=True)\n",
        "print('\\t-- training error: %.3f' % train_error)"
      ],
      "metadata": {
        "id": "DsavGsNaiqOE",
        "colab": {
          "base_uri": "https://localhost:8080/"
        },
        "outputId": "8cdacb31-2157-49b6-8528-2725644ea3d2"
      },
      "execution_count": null,
      "outputs": [
        {
          "output_type": "stream",
          "name": "stdout",
          "text": [
            "Classifying using Majority Vote...\n",
            "\t-- training error: 0.467\n"
          ]
        }
      ]
    },
    {
      "cell_type": "code",
      "source": [
        "\n",
        "# evaluate training error of Random classifier\n",
        "print('Classifying using Random Classifier...')\n",
        "#declare clf as a tpye of Random Classifier\n",
        "clf = RandomClassifier()\n",
        "#fit training data\n",
        "clf.fit(X, y)\n",
        "y_pred = clf.predict(X)\n",
        "#measure and print error\n",
        "train_error = 1 - metrics.accuracy_score(y, y_pred, normalize=True)\n",
        "print('\\t-- training error: %.3f' % train_error)\n"
      ],
      "metadata": {
        "id": "yKyE4skdirsI",
        "colab": {
          "base_uri": "https://localhost:8080/"
        },
        "outputId": "a733822d-6c1f-406d-8d4f-0505d6e49dac"
      },
      "execution_count": null,
      "outputs": [
        {
          "output_type": "stream",
          "name": "stdout",
          "text": [
            "Classifying using Random Classifier...\n",
            "\t-- training error: 0.503\n"
          ]
        }
      ]
    },
    {
      "cell_type": "code",
      "source": [
        "\n",
        "# evaluate training error of Decision Tree classifier\n",
        "print('Classifying using DecisionTreeClassifier...')\n",
        "#create new clf using Decision Tree Classifeir with the criterion being set to entropy\n",
        "clf = DecisionTreeClassifier(criterion='entropy')\n",
        "#fit training data\n",
        "clf.fit(X,y)\n",
        "y_pred = clf.predict(X)\n",
        "#meausre and print error\n",
        "train_error = 1 - metrics.accuracy_score(y, y_pred, normalize=True)\n",
        "print('\\t-- training error: %.3f' % train_error)\n",
        "\n"
      ],
      "metadata": {
        "id": "QY52Xls2isr3",
        "colab": {
          "base_uri": "https://localhost:8080/"
        },
        "outputId": "a1f10133-ed4c-4648-be70-e9cc7bb36b5c"
      },
      "execution_count": null,
      "outputs": [
        {
          "output_type": "stream",
          "name": "stdout",
          "text": [
            "Classifying using DecisionTreeClassifier...\n",
            "\t-- training error: 0.055\n"
          ]
        }
      ]
    },
    {
      "cell_type": "code",
      "source": [
        "\n",
        "# evaluate training error of k-Nearest Neighbors classifier\n",
        "# use k = 3, 11, 19 for n_neighbors\n",
        "print('Classifying using KNeighborsClassifier...')\n",
        "#for k = 3\n",
        "clf = KNeighborsClassifier(n_neighbors= 3)\n",
        "#fit training data\n",
        "clf.fit(X,y)\n",
        "y_pred = clf.predict(X)\n",
        "#meausre and print error\n",
        "train_error = 1 - metrics.accuracy_score(y, y_pred, normalize=True)\n",
        "print('\\t-- training error for k = 3: %.3f' % train_error)\n",
        "\n",
        "#for k = 11\n",
        "clf = KNeighborsClassifier(n_neighbors= 11)\n",
        "#fit training data\n",
        "clf.fit(X,y)\n",
        "y_pred = clf.predict(X)\n",
        "#meausre and print error\n",
        "train_error = 1 - metrics.accuracy_score(y, y_pred, normalize=True)\n",
        "print('\\t-- training error for k = 11: %.3f' % train_error)\n",
        "\n",
        "#for k = 13\n",
        "clf = KNeighborsClassifier(n_neighbors= 19)\n",
        "#fit training data\n",
        "clf.fit(X,y)\n",
        "y_pred = clf.predict(X)\n",
        "#meausre and print error\n",
        "train_error = 1 - metrics.accuracy_score(y, y_pred, normalize=True)\n",
        "print('\\t-- training error for k = 13: %.3f' % train_error)\n",
        "\n"
      ],
      "metadata": {
        "id": "9J8BTu4xitvz",
        "colab": {
          "base_uri": "https://localhost:8080/"
        },
        "outputId": "154ad132-6d6b-4350-f1ff-08be8a58701b"
      },
      "execution_count": null,
      "outputs": [
        {
          "output_type": "stream",
          "name": "stdout",
          "text": [
            "Classifying using KNeighborsClassifier...\n",
            "\t-- training error for k = 3: 0.064\n",
            "\t-- training error for k = 11: 0.070\n",
            "\t-- training error for k = 13: 0.076\n"
          ]
        }
      ]
    },
    {
      "cell_type": "code",
      "source": [
        "# use cross-validation to compute average training and test error of classifiers\n",
        "print('Investigating various classifiers...')\n",
        "\n",
        "#for each type for classifier call the error function to print out the errors and f1 scores for each type\n",
        "clf = MajorityVoteClassifier() \n",
        "print(\"Majority Vote Classifier:\", \"Train Error =\",error(clf, X, y, ntrials = 100, test_size = 0.15)[0], \"Test Error =\",error(clf, X, y, ntrials = 100, test_size = 0.15)[1],\"F1 Score =\",error(clf, X, y, ntrials = 100, test_size = 0.15)[2])\n",
        "clf = RandomClassifier()\n",
        "print(\"Random Vote Classifier:\", \"Train Error =\",error(clf, X, y, ntrials = 100, test_size = 0.15)[0], \"Test Error =\",error(clf, X, y, ntrials = 100, test_size = 0.15)[1],\"F1 Score =\",error(clf, X, y, ntrials = 100, test_size = 0.15)[2])\n",
        "clf = DecisionTreeClassifier(criterion='entropy')\n",
        "print(\"Descision Tree Classifier Classifier:\", \"Train Error =\",error(clf, X, y, ntrials = 100, test_size = 0.15)[0], \"Test Error =\",error(clf, X, y, ntrials = 100, test_size = 0.15)[1],\"F1 Score =\",error(clf, X, y, ntrials = 100, test_size = 0.15)[2])\n",
        "clf = KNeighborsClassifier(n_neighbors= 11)\n",
        "print(\"KNeighbors Classifier Classifier:\", \"Train Error =\",error(clf, X, y, ntrials = 100, test_size = 0.15)[0], \"Test Error =\",error(clf, X, y, ntrials = 100, test_size = 0.15)[1],\"F1 Score =\",error(clf, X, y, ntrials = 100, test_size = 0.15)[2])\n",
        "\n"
      ],
      "metadata": {
        "id": "LvimpQB2ivzT",
        "colab": {
          "base_uri": "https://localhost:8080/"
        },
        "outputId": "9a0ca87e-0f0b-49c1-fec8-5c19ddd0a2dd"
      },
      "execution_count": null,
      "outputs": [
        {
          "output_type": "stream",
          "name": "stdout",
          "text": [
            "Investigating various classifiers...\n",
            "Majority Vote Classifier: Train Error = 0.4667225950783002 Test Error = 0.4671417260490902 F1 Score = 0.5328582739509095\n",
            "Random Vote Classifier: Train Error = 0.49741051454138685 Test Error = 0.4979730799683294 F1 Score = 0.5020269200316706\n",
            "Descision Tree Classifier Classifier: Train Error = 0.05469658836689039 Test Error = 0.05473475851148058 F1 Score = 0.9452494061757717\n",
            "KNeighbors Classifier Classifier: Train Error = 0.06751957494407158 Test Error = 0.07050673000791768 F1 Score = 0.9294932699920825\n"
          ]
        }
      ]
    },
    {
      "cell_type": "code",
      "source": [
        "# use 5-fold cross-validation to find the best value of k for k-Nearest Neighbors classifier\n",
        "print('Finding the best k...')\n",
        "\n",
        "#set variables and make empty lists\n",
        "best_f1 = 0\n",
        "best_k = -1\n",
        "\n",
        "F1Scores = []\n",
        "k_vals = []\n",
        "\n",
        "#for loop for odd nums between 1 and 100\n",
        "for i in range(1,100, 2):\n",
        "  k_vals.append(i)\n",
        "  clf = KNeighborsClassifier(n_neighbors= i)\n",
        "  f1 = cross_val_score(clf, X, y, scoring = 'f1').mean()\n",
        "  F1Scores.append(f1)\n",
        "  #check if f1 score is higher than best score and if so replace score and k value\n",
        "  if f1 > best_f1:\n",
        "    best_f1 = f1\n",
        "    best_k = i\n",
        "\n",
        "print(\"Best K Value:\", best_k, \"with F1 Score:\", best_f1)\n",
        "\n",
        "plt.plot(k_vals, F1Scores)\n",
        "plt.xlabel(\"K Value\")\n",
        "plt.ylabel(\"F1 Score\")"
      ],
      "metadata": {
        "id": "vc0eTyvv7U_Y",
        "colab": {
          "base_uri": "https://localhost:8080/"
        },
        "outputId": "eb2a38e9-0798-481d-cb2f-25a446979e68"
      },
      "execution_count": null,
      "outputs": [
        {
          "output_type": "stream",
          "name": "stdout",
          "text": [
            "Finding the best k...\n",
            "Best K Value: 17 with F1 Score: 0.9352647610252813\n"
          ]
        },
        {
          "output_type": "execute_result",
          "data": {
            "text/plain": [
              "Text(0, 0.5, 'F1 Score')"
            ]
          },
          "metadata": {},
          "execution_count": 104
        },
        {
          "output_type": "display_data",
          "data": {
            "text/plain": [
              "<Figure size 432x288 with 1 Axes>"
            ],
            "image/png": "[encoded data removed]"
          },
          "metadata": {
            "needs_background": "light"
          }
        }
      ]
    },
    {
      "cell_type": "code",
      "source": [
        "# investigate decision tree classifier with various depths\n",
        "print('Investigating depths...')\n",
        "\n",
        "#set variables and make empty lists\n",
        "best_f1 = 0\n",
        "best_depth = -1\n",
        "\n",
        "depth = []\n",
        "F1_Training_Scores = []\n",
        "F1_Scores = []\n",
        "\n",
        "\n",
        "for i in range(1,21):\n",
        "  depth.append(i)\n",
        "  #create decision tree with each depth from 1 to 20\n",
        "  clf = DecisionTreeClassifier(criterion='entropy', max_depth = i)\n",
        "  #find cross validation scores for 20 fold\n",
        "  f1 = cross_val_score(clf, X, y, scoring = 'f1', cv = 20).mean()\n",
        "  F1_Scores.append(f1)\n",
        "  #use error function to find training F1 scores\n",
        "  F1_train = error(clf, X, y, ntrials = 1, test_size = 0.15)[2]\n",
        "  F1_Training_Scores.append(F1_train)\n",
        "  #if f1 score is greater than best f1 score replace f1 and the current depth\n",
        "  if f1 > best_f1:\n",
        "    best_f1 = f1\n",
        "    best_depth = i\n",
        "print(\"The best depth limit is:\", best_depth)\n",
        "\n",
        "plt.plot(depth, F1_Scores, label =\"F1 Test Scores\")\n",
        "plt.plot(depth, F1_Training_Scores, label =\"F1 Training Scores\")\n",
        "plt.xlabel(\"depth\")\n",
        "plt.ylabel(\"F1 Scores\")\n",
        "plt.legend()\n"
      ],
      "metadata": {
        "id": "9AzGLcp28IO1",
        "colab": {
          "base_uri": "https://localhost:8080/"
        },
        "outputId": "7a9e4518-058c-4a57-adc5-602e078c3248"
      },
      "execution_count": null,
      "outputs": [
        {
          "output_type": "stream",
          "name": "stdout",
          "text": [
            "Investigating depths...\n",
            "The best depth limit is: 12\n"
          ]
        },
        {
          "output_type": "execute_result",
          "data": {
            "text/plain": [
              "<matplotlib.legend.Legend at 0x7fb67b5cea50>"
            ]
          },
          "metadata": {},
          "execution_count": 105
        },
        {
          "output_type": "display_data",
          "data": {
            "text/plain": [
              "<Figure size 432x288 with 1 Axes>"
            ],
            "image/png": "[encoded data removed]"
          },
          "metadata": {
            "needs_background": "light"
          }
        }
      ]
    }
  ]
}