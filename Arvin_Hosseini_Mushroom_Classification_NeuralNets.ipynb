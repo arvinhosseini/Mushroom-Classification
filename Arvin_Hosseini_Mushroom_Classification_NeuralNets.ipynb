{
  "nbformat": 4,
  "nbformat_minor": 0,
  "metadata": {
    "colab": {
      "provenance": []
    },
    "kernelspec": {
      "name": "python3",
      "display_name": "Python 3"
    },
    "language_info": {
      "name": "python"
    }
  },
  "cells": [
    {
      "cell_type": "markdown",
      "source": [
        "# Homework 2\n",
        "\n",
        "**Name**: **Arvin Hosseini**\n",
        "\n",
        "**UID**: **205594617**\n",
        "\n",
        "Note: Please remember to make a copy of this colab notebook in your drive."
      ],
      "metadata": {
        "id": "ZUXT8AX4nAlO"
      }
    },
    {
      "cell_type": "code",
      "execution_count": null,
      "metadata": {
        "id": "YsUAqVAblb0z"
      },
      "outputs": [],
      "source": [
        "# Download a processed version of the data\n",
        "#!wget https://web.cs.ucla.edu/~zshi/files/CS146/mushroom.txt"
      ]
    },
    {
      "cell_type": "code",
      "source": [
        "# Use only the provided packages!\n",
        "import csv\n",
        "import matplotlib.pyplot as plt\n",
        "import numpy as np\n",
        "import torch\n",
        "import pandas\n",
        "from torch.utils.data import TensorDataset, DataLoader\n",
        "from sklearn.model_selection import train_test_split\n",
        "from sklearn.metrics import confusion_matrix"
      ],
      "metadata": {
        "id": "0pgg-LfqnNxe"
      },
      "execution_count": null,
      "outputs": []
    },
    {
      "cell_type": "code",
      "source": [
        "# load data from txt\n",
        "# X.shape = (n_examples, n_features), y.shape = (n_examples, )\n",
        "def load_data(filename):\n",
        "    data = pandas.read_csv(filename).to_numpy()\n",
        "    n = data.shape[0]\n",
        "    d = data.shape[1] - 1\n",
        "\n",
        "    # Map strings to numbers\n",
        "    X = np.zeros((n, d))\n",
        "    for i in range(d):\n",
        "        mapping = {name: j for j, name in enumerate(sorted(set(data[:, i+1])))}\n",
        "        for j in range(n):\n",
        "            X[j, i] = mapping[data[j, i+1]]\n",
        "    mapping = {'EDIBLE': 1, 'POISONOUS': 0}\n",
        "    y = np.zeros(n, dtype=np.int32)\n",
        "    for j in range(n):\n",
        "        y[j] = mapping[data[j, 0]]\n",
        "\n",
        "    # We only use these 6 features\n",
        "    features = [0, 2, 8, 10, 15, 17]\n",
        "    X = np.take(X, features, axis=-1)\n",
        "\n",
        "    return X, y"
      ],
      "metadata": {
        "id": "OfMAXBhanXxl"
      },
      "execution_count": null,
      "outputs": []
    },
    {
      "cell_type": "code",
      "source": [
        "def create_data(filename, test_size=0.15, val_size=0.15):\n",
        "    # Load the dataset\n",
        "    X, y = load_data(filename='mushroom.txt')\n",
        "\n",
        "    # Split into train, validation, test\n",
        "    X_train, X_test, y_train, y_test = train_test_split(X, y, test_size=test_size, random_state=42)\n",
        "    X_train, X_val, y_train, y_val = train_test_split(X_train, y_train, test_size=val_size, random_state=42)\n",
        "    X_train, X_val, X_test = torch.Tensor(X_train), torch.Tensor(X_val), torch.Tensor(X_test)\n",
        "    y_train = torch.Tensor(np.array([ [y] for y in y_train ]))\n",
        "    y_val = torch.Tensor(np.array([ [y] for y in y_val ]))\n",
        "    y_test = torch.Tensor(np.array([ [y] for y in y_test ]))\n",
        "\n",
        "    return X_train, y_train, X_val, y_val, X_test, y_test"
      ],
      "metadata": {
        "id": "EAXUrDUy5APB"
      },
      "execution_count": null,
      "outputs": []
    },
    {
      "cell_type": "code",
      "source": [
        "def get_dataloaders(X_train, y_train, X_val, y_val, X_test, y_test, train_batch_size=16, test_batch_size=32):\n",
        "    # part a: Create dataloaders for train, validation and test sets\n",
        "\n",
        "    # create tensor datasets for each type of data\n",
        "    training_data = TensorDataset(X_train, y_train)\n",
        "    val_data = TensorDataset(X_val, y_val)\n",
        "    test_data = TensorDataset(X_test, y_test)\n",
        "\n",
        "\n",
        "    #create dataloaders for each type of the datasets\n",
        "    train_loader = DataLoader(training_data, batch_size=16)\n",
        "    val_loader = DataLoader(val_data, batch_size=32)\n",
        "    test_loader = DataLoader(test_data, batch_size=32)\n",
        "\n",
        "\n",
        "\n",
        "\n",
        "    return train_loader, val_loader, test_loader"
      ],
      "metadata": {
        "id": "O0obV43AZqpl"
      },
      "execution_count": null,
      "outputs": []
    },
    {
      "cell_type": "code",
      "source": [
        "def evaluate_loss(model, criterion, dataloader):\n",
        "    model.eval()\n",
        "    total_loss = 0.0\n",
        "    for batch_X, batch_y in dataloader:\n",
        "        batch_size = len(batch_X)\n",
        "        outputs = model(batch_X)\n",
        "        loss = criterion(outputs, batch_y)\n",
        "        total_loss += loss.item()\n",
        "\n",
        "    return total_loss / len(dataloader.dataset)"
      ],
      "metadata": {
        "id": "w6wJVYzjMtfN"
      },
      "execution_count": null,
      "outputs": []
    },
    {
      "cell_type": "code",
      "source": [
        "def evaluate_acc(model, dataloader):\n",
        "    model.eval()\n",
        "    total_acc = 0.0\n",
        "    for batch_X, batch_y in dataloader:\n",
        "        outputs = model(batch_X)\n",
        "        predictions = (outputs > 0.5).long()\n",
        "        total_acc += (predictions==batch_y).sum()\n",
        "        \n",
        "    return total_acc / len(dataloader.dataset)"
      ],
      "metadata": {
        "id": "lsMHwVKEMp2N"
      },
      "execution_count": null,
      "outputs": []
    },
    {
      "cell_type": "code",
      "source": [
        "\n",
        "\n",
        "class OneLayerNetwork(torch.nn.Module):\n",
        "    def __init__(self, input_features):\n",
        "        # input_features: int\n",
        "        super(OneLayerNetwork, self).__init__()\n",
        "\n",
        "      \n",
        "        ### part c: implement OneLayerNetwork with torch.nn.Linear. Use sigmoid as the activation\n",
        "\n",
        "        #create w and sigmoid defintions using linear and sigmoid functions from pytorch\n",
        "        self.w = torch.nn.Linear(input_features, 1)\n",
        "        self.sig = torch.nn.Sigmoid()\n",
        "\n",
        "        \n",
        "\n",
        "    def forward(self, x):\n",
        "        # x.shape = (n_batch, n_features)\n",
        "\n",
        "        \n",
        "\n",
        "        #calculate sigmoid of w \n",
        "        temp = self.w(x)\n",
        "        outputs = self.sig(temp)\n",
        "\n",
        "        \n",
        "        return outputs"
      ],
      "metadata": {
        "id": "JcgywtatpFyW"
      },
      "execution_count": null,
      "outputs": []
    },
    {
      "cell_type": "code",
      "source": [
        "def init_oneLayerNN(in_features, lr):\n",
        "    # input_features: int -> Number of input features\n",
        "    # lr: float -> Learning Rate\n",
        "\n",
        "    \n",
        "    \n",
        "    #create an instance of the one later network using the input features\n",
        "    model = OneLayerNetwork(in_features)\n",
        "    #use loss function from pytorch using sum\n",
        "    criterion = torch.nn.BCELoss(reduction='sum')\n",
        "    #use sgd otimizer from pytorch with the inputted learning rate\n",
        "    optimizer = torch.optim.SGD(model.parameters(), lr=lr)\n",
        "    \n",
        "\n",
        "    \n",
        "    return model, criterion, optimizer"
      ],
      "metadata": {
        "id": "CTqdAPJqZu_9"
      },
      "execution_count": null,
      "outputs": []
    },
    {
      "cell_type": "code",
      "source": [
        "\n",
        "class TwoLayerNetwork(torch.nn.Module):\n",
        "    def __init__(self, input_features, hidden_features, first_activation='sigmoid'):\n",
        "        # input_features: int -> Number of input features\n",
        "        # hidden_features: int -> Size of the hidden layer\n",
        "        # first_activation: str -> Activation to use for the first hidden layer\n",
        "        \n",
        "        super(TwoLayerNetwork, self).__init__()\n",
        "       \n",
        "\n",
        "        #define w1 as the matrix of weights from the input layers to the hidden layer\n",
        "        self.w1 = torch.nn.Linear(input_features, hidden_features)\n",
        "        #define w2 as the matrix of weights from the hidden layeer to the predicted output \n",
        "        self.w2 = torch.nn.Linear(hidden_features, 1)\n",
        "        #make sure that we are using the correct activation function\n",
        "        if first_activation == 'sigmoid':\n",
        "          self.sig = torch.nn.Sigmoid()\n",
        "        else:\n",
        "          print(f\"{first_activation} not implemented.\")\n",
        "\n",
        "       \n",
        "    def forward(self, x):\n",
        "        # x.shape = (n_batch, n_features)\n",
        "\n",
        "        #first find sigmoid of w1 given an input x\n",
        "        temp = self.sig(self.w1(x))\n",
        "        #then matrix multiply the result with w2 and call the sigmoid function on the result\n",
        "        outputs = self.sig(self.w2(temp))\n",
        "\n",
        "        return outputs"
      ],
      "metadata": {
        "id": "togsEQhjpJV-"
      },
      "execution_count": null,
      "outputs": []
    },
    {
      "cell_type": "code",
      "source": [
        "def init_twoLayerNN(in_features, hidden_size, first_activation, lr):\n",
        "    # input_features: int -> Number of input features\n",
        "    # hidden_features: int -> Size of the hidden layer\n",
        "    # first_activation: str -> Activation to use for the first hidden layer\n",
        "    # lr: float -> Learning Rate\n",
        "\n",
        "    # create an instance of the two layer NN using the passed in paramters\n",
        "    model = TwoLayerNetwork(in_features, hidden_size, first_activation)\n",
        "    criterion = torch.nn.BCELoss(reduction='sum')\n",
        "    optimizer = torch.optim.SGD(model.parameters(), lr=lr)\n",
        "\n",
        "\n",
        "    return model, criterion, optimizer"
      ],
      "metadata": {
        "id": "JLgzYSbRZ68i"
      },
      "execution_count": null,
      "outputs": []
    },
    {
      "cell_type": "code",
      "source": [
        "def train(model, criterion, optimizer, train_loader, valid_loader, num_epochs, logging_epochs=1):\n",
        "    print(\"Start training model...\")\n",
        "\n",
        "    train_loss_list = []\n",
        "    valid_loss_list = []\n",
        "    train_acc_list = []\n",
        "    valid_acc_list = []\n",
        "    for epoch in range(1, num_epochs+1):\n",
        "        model.train()\n",
        "        for batch_X, batch_y in train_loader:\n",
        "            \n",
        "\n",
        "            # initialize to grads to 0\n",
        "            optimizer.zero_grad()\n",
        "\n",
        "            # forward pass\n",
        "            outputs = model(batch_X)\n",
        "            # calc the loss\n",
        "            loss = criterion(outputs, batch_y)\n",
        "            # calculate gradients using backprop\n",
        "            loss.backward()\n",
        "            # updating the weights\n",
        "            optimizer.step()\n",
        "\n",
        "            \n",
        "        train_loss = evaluate_loss(model, criterion, train_loader)\n",
        "        valid_loss = evaluate_loss(model, criterion, valid_loader)\n",
        "        train_acc = evaluate_acc(model, train_loader)\n",
        "        valid_acc = evaluate_acc(model, valid_loader)\n",
        "        train_loss_list.append(train_loss)\n",
        "        valid_loss_list.append(valid_loss)\n",
        "        train_acc_list.append(train_acc)\n",
        "        valid_acc_list.append(valid_acc)\n",
        "\n",
        "        if logging_epochs > 0 and epoch % logging_epochs == 0:\n",
        "            print(f\"| epoch {epoch:2d} | train loss {train_loss:.6f} | train acc {train_acc:.6f} | valid loss {valid_loss:.6f} | valid acc {valid_acc:.6f} |\")\n",
        "\n",
        "    return train_loss_list, valid_loss_list, train_acc_list, valid_acc_list"
      ],
      "metadata": {
        "id": "4tbScX1wJQs-"
      },
      "execution_count": null,
      "outputs": []
    },
    {
      "cell_type": "code",
      "source": [
        "# fix random seed\n",
        "np.random.seed(42)\n",
        "torch.manual_seed(42)"
      ],
      "metadata": {
        "id": "nMNlraY-0i03",
        "colab": {
          "base_uri": "https://localhost:8080/"
        },
        "outputId": "87008b1c-2a77-4f86-fcbd-66492e11804c"
      },
      "execution_count": null,
      "outputs": [
        {
          "output_type": "execute_result",
          "data": {
            "text/plain": [
              "<torch._C.Generator at 0x7fb39fcb20b0>"
            ]
          },
          "metadata": {},
          "execution_count": 154
        }
      ]
    },
    {
      "cell_type": "code",
      "source": [
        "# Data Preparation\n",
        "train_batch_size = 16\n",
        "test_batch_size = 32\n",
        "\n",
        "## Load data\n",
        "X_train, y_train, X_val, y_val, X_test, y_test = create_data(\"mushroom.txt\")\n",
        "\n",
        "## Create data loaders\n",
        "train_loader, val_loader, test_loader = get_dataloaders(X_train, y_train, X_val, y_val, X_test, y_test, train_batch_size=train_batch_size, test_batch_size=test_batch_size)"
      ],
      "metadata": {
        "id": "suIFmOq9aBZg"
      },
      "execution_count": null,
      "outputs": []
    },
    {
      "cell_type": "code",
      "source": [
        "## Define hyperparameters\n",
        "lr = 0.001\n",
        "num_epochs = 50\n",
        "\n",
        "## Init models\n",
        "oneLayerNN, criterion, optimizer = init_oneLayerNN(X_train.shape[1], lr=lr)\n",
        "results_one = train(oneLayerNN, criterion, optimizer, train_loader, val_loader, num_epochs=num_epochs)"
      ],
      "metadata": {
        "id": "HOcY2viHYC5U",
        "colab": {
          "base_uri": "https://localhost:8080/"
        },
        "outputId": "9777ea84-80c8-4cc0-e22d-336f5e3caab6"
      },
      "execution_count": null,
      "outputs": [
        {
          "output_type": "stream",
          "name": "stdout",
          "text": [
            "Start training model...\n",
            "| epoch  1 | train loss 0.546384 | train acc 0.732357 | valid loss 0.545550 | valid acc 0.739049 |\n",
            "| epoch  2 | train loss 0.537560 | train acc 0.755881 | valid loss 0.539040 | valid acc 0.760485 |\n",
            "| epoch  3 | train loss 0.533699 | train acc 0.761309 | valid loss 0.536818 | valid acc 0.767008 |\n",
            "| epoch  4 | train loss 0.530968 | train acc 0.759829 | valid loss 0.535419 | valid acc 0.762349 |\n",
            "| epoch  5 | train loss 0.528757 | train acc 0.757032 | valid loss 0.534337 | valid acc 0.760485 |\n",
            "| epoch  6 | train loss 0.526884 | train acc 0.757526 | valid loss 0.533437 | valid acc 0.759553 |\n",
            "| epoch  7 | train loss 0.525260 | train acc 0.757526 | valid loss 0.532658 | valid acc 0.759553 |\n",
            "| epoch  8 | train loss 0.523823 | train acc 0.757526 | valid loss 0.531960 | valid acc 0.759553 |\n",
            "| epoch  9 | train loss 0.522533 | train acc 0.759006 | valid loss 0.531317 | valid acc 0.760485 |\n",
            "| epoch 10 | train loss 0.521359 | train acc 0.759006 | valid loss 0.530715 | valid acc 0.760485 |\n",
            "| epoch 11 | train loss 0.520280 | train acc 0.759171 | valid loss 0.530141 | valid acc 0.761417 |\n",
            "| epoch 12 | train loss 0.519280 | train acc 0.761967 | valid loss 0.529591 | valid acc 0.763281 |\n",
            "| epoch 13 | train loss 0.518348 | train acc 0.762790 | valid loss 0.529060 | valid acc 0.763281 |\n",
            "| epoch 14 | train loss 0.517474 | train acc 0.762461 | valid loss 0.528546 | valid acc 0.763281 |\n",
            "| epoch 15 | train loss 0.516652 | train acc 0.764599 | valid loss 0.528048 | valid acc 0.765144 |\n",
            "| epoch 16 | train loss 0.515877 | train acc 0.765915 | valid loss 0.527566 | valid acc 0.766076 |\n",
            "| epoch 17 | train loss 0.515143 | train acc 0.767725 | valid loss 0.527099 | valid acc 0.767008 |\n",
            "| epoch 18 | train loss 0.514448 | train acc 0.767725 | valid loss 0.526648 | valid acc 0.767008 |\n",
            "| epoch 19 | train loss 0.513788 | train acc 0.768054 | valid loss 0.526213 | valid acc 0.767008 |\n",
            "| epoch 20 | train loss 0.513162 | train acc 0.768383 | valid loss 0.525793 | valid acc 0.767008 |\n",
            "| epoch 21 | train loss 0.512567 | train acc 0.768383 | valid loss 0.525389 | valid acc 0.767008 |\n",
            "| epoch 22 | train loss 0.512001 | train acc 0.768383 | valid loss 0.525001 | valid acc 0.767008 |\n",
            "| epoch 23 | train loss 0.511462 | train acc 0.768383 | valid loss 0.524629 | valid acc 0.767008 |\n",
            "| epoch 24 | train loss 0.510949 | train acc 0.768383 | valid loss 0.524273 | valid acc 0.767008 |\n",
            "| epoch 25 | train loss 0.510461 | train acc 0.768547 | valid loss 0.523932 | valid acc 0.767008 |\n",
            "| epoch 26 | train loss 0.509995 | train acc 0.768547 | valid loss 0.523606 | valid acc 0.767008 |\n",
            "| epoch 27 | train loss 0.509552 | train acc 0.767725 | valid loss 0.523296 | valid acc 0.767008 |\n",
            "| epoch 28 | train loss 0.509130 | train acc 0.767725 | valid loss 0.523000 | valid acc 0.767008 |\n",
            "| epoch 29 | train loss 0.508727 | train acc 0.767725 | valid loss 0.522718 | valid acc 0.767008 |\n",
            "| epoch 30 | train loss 0.508343 | train acc 0.767725 | valid loss 0.522451 | valid acc 0.767008 |\n",
            "| epoch 31 | train loss 0.507977 | train acc 0.770850 | valid loss 0.522196 | valid acc 0.770736 |\n",
            "| epoch 32 | train loss 0.507628 | train acc 0.770850 | valid loss 0.521955 | valid acc 0.770736 |\n",
            "| epoch 33 | train loss 0.507295 | train acc 0.770850 | valid loss 0.521726 | valid acc 0.770736 |\n",
            "| epoch 34 | train loss 0.506978 | train acc 0.770850 | valid loss 0.521510 | valid acc 0.770736 |\n",
            "| epoch 35 | train loss 0.506675 | train acc 0.770850 | valid loss 0.521305 | valid acc 0.770736 |\n",
            "| epoch 36 | train loss 0.506386 | train acc 0.770850 | valid loss 0.521111 | valid acc 0.770736 |\n",
            "| epoch 37 | train loss 0.506110 | train acc 0.771179 | valid loss 0.520928 | valid acc 0.770736 |\n",
            "| epoch 38 | train loss 0.505847 | train acc 0.771179 | valid loss 0.520755 | valid acc 0.770736 |\n",
            "| epoch 39 | train loss 0.505595 | train acc 0.771179 | valid loss 0.520592 | valid acc 0.770736 |\n",
            "| epoch 40 | train loss 0.505356 | train acc 0.771015 | valid loss 0.520438 | valid acc 0.770736 |\n",
            "| epoch 41 | train loss 0.505127 | train acc 0.771015 | valid loss 0.520294 | valid acc 0.770736 |\n",
            "| epoch 42 | train loss 0.504908 | train acc 0.771015 | valid loss 0.520158 | valid acc 0.770736 |\n",
            "| epoch 43 | train loss 0.504699 | train acc 0.771015 | valid loss 0.520030 | valid acc 0.770736 |\n",
            "| epoch 44 | train loss 0.504500 | train acc 0.771015 | valid loss 0.519910 | valid acc 0.770736 |\n",
            "| epoch 45 | train loss 0.504310 | train acc 0.771344 | valid loss 0.519798 | valid acc 0.770736 |\n",
            "| epoch 46 | train loss 0.504128 | train acc 0.769863 | valid loss 0.519692 | valid acc 0.767940 |\n",
            "| epoch 47 | train loss 0.503954 | train acc 0.769863 | valid loss 0.519594 | valid acc 0.767940 |\n",
            "| epoch 48 | train loss 0.503788 | train acc 0.769863 | valid loss 0.519501 | valid acc 0.767940 |\n",
            "| epoch 49 | train loss 0.503629 | train acc 0.769863 | valid loss 0.519415 | valid acc 0.767940 |\n",
            "| epoch 50 | train loss 0.503478 | train acc 0.769863 | valid loss 0.519335 | valid acc 0.767940 |\n"
          ]
        }
      ]
    },
    {
      "cell_type": "code",
      "source": [
        "## Define hyperparameters\n",
        "lr = 0.001\n",
        "hidden_size = 6\n",
        "activation = 'sigmoid'\n",
        "num_epochs = 50\n",
        "\n",
        "## Init models\n",
        "twoLayerNN, criterion, optimizer = init_twoLayerNN(X_train.shape[1], hidden_size, activation, lr=lr)\n",
        "results_two = train(twoLayerNN, criterion, optimizer, train_loader, val_loader, num_epochs=num_epochs)"
      ],
      "metadata": {
        "id": "n2OAuoOyZVh0",
        "colab": {
          "base_uri": "https://localhost:8080/"
        },
        "outputId": "cdcfffe5-938a-48c7-80f1-c1bf9267196f"
      },
      "execution_count": null,
      "outputs": [
        {
          "output_type": "stream",
          "name": "stdout",
          "text": [
            "Start training model...\n",
            "| epoch  1 | train loss 0.667682 | train acc 0.562593 | valid loss 0.668011 | valid acc 0.565704 |\n",
            "| epoch  2 | train loss 0.652090 | train acc 0.623458 | valid loss 0.651769 | valid acc 0.638397 |\n",
            "| epoch  3 | train loss 0.635221 | train acc 0.650271 | valid loss 0.634644 | valid acc 0.654240 |\n",
            "| epoch  4 | train loss 0.615841 | train acc 0.699457 | valid loss 0.615277 | valid acc 0.697111 |\n",
            "| epoch  5 | train loss 0.594264 | train acc 0.724461 | valid loss 0.593729 | valid acc 0.729730 |\n",
            "| epoch  6 | train loss 0.573040 | train acc 0.728409 | valid loss 0.572476 | valid acc 0.733458 |\n",
            "| epoch  7 | train loss 0.554806 | train acc 0.759993 | valid loss 0.554384 | valid acc 0.764212 |\n",
            "| epoch  8 | train loss 0.539843 | train acc 0.759006 | valid loss 0.539684 | valid acc 0.765144 |\n",
            "| epoch  9 | train loss 0.527671 | train acc 0.763283 | valid loss 0.527856 | valid acc 0.769804 |\n",
            "| epoch 10 | train loss 0.517604 | train acc 0.763283 | valid loss 0.518233 | valid acc 0.769804 |\n",
            "| epoch 11 | train loss 0.509039 | train acc 0.763283 | valid loss 0.510222 | valid acc 0.769804 |\n",
            "| epoch 12 | train loss 0.501526 | train acc 0.754236 | valid loss 0.503351 | valid acc 0.760485 |\n",
            "| epoch 13 | train loss 0.494735 | train acc 0.755881 | valid loss 0.497267 | valid acc 0.762349 |\n",
            "| epoch 14 | train loss 0.488424 | train acc 0.763283 | valid loss 0.491706 | valid acc 0.767940 |\n",
            "| epoch 15 | train loss 0.482421 | train acc 0.764599 | valid loss 0.486472 | valid acc 0.767940 |\n",
            "| epoch 16 | train loss 0.476601 | train acc 0.779405 | valid loss 0.481425 | valid acc 0.783784 |\n",
            "| epoch 17 | train loss 0.470885 | train acc 0.779733 | valid loss 0.476470 | valid acc 0.783784 |\n",
            "| epoch 18 | train loss 0.465231 | train acc 0.778746 | valid loss 0.471552 | valid acc 0.780988 |\n",
            "| epoch 19 | train loss 0.459620 | train acc 0.780556 | valid loss 0.466646 | valid acc 0.780988 |\n",
            "| epoch 20 | train loss 0.454046 | train acc 0.789604 | valid loss 0.461750 | valid acc 0.789376 |\n",
            "| epoch 21 | train loss 0.448511 | train acc 0.789439 | valid loss 0.456875 | valid acc 0.787512 |\n",
            "| epoch 22 | train loss 0.443031 | train acc 0.798651 | valid loss 0.452042 | valid acc 0.796831 |\n",
            "| epoch 23 | train loss 0.437639 | train acc 0.813950 | valid loss 0.447286 | valid acc 0.809879 |\n",
            "| epoch 24 | train loss 0.432396 | train acc 0.832374 | valid loss 0.442662 | valid acc 0.821994 |\n",
            "| epoch 25 | train loss 0.427377 | train acc 0.835335 | valid loss 0.438240 | valid acc 0.826654 |\n",
            "| epoch 26 | train loss 0.422653 | train acc 0.839612 | valid loss 0.434080 | valid acc 0.827586 |\n",
            "| epoch 27 | train loss 0.418268 | train acc 0.835664 | valid loss 0.430224 | valid acc 0.822926 |\n",
            "| epoch 28 | train loss 0.414235 | train acc 0.837638 | valid loss 0.426683 | valid acc 0.824790 |\n",
            "| epoch 29 | train loss 0.410542 | train acc 0.837309 | valid loss 0.423446 | valid acc 0.823858 |\n",
            "| epoch 30 | train loss 0.407161 | train acc 0.837309 | valid loss 0.420487 | valid acc 0.823858 |\n",
            "| epoch 31 | train loss 0.404054 | train acc 0.838460 | valid loss 0.417775 | valid acc 0.824790 |\n",
            "| epoch 32 | train loss 0.401186 | train acc 0.838789 | valid loss 0.415274 | valid acc 0.824790 |\n",
            "| epoch 33 | train loss 0.398522 | train acc 0.839283 | valid loss 0.412955 | valid acc 0.824790 |\n",
            "| epoch 34 | train loss 0.396028 | train acc 0.838954 | valid loss 0.410789 | valid acc 0.823858 |\n",
            "| epoch 35 | train loss 0.393679 | train acc 0.839118 | valid loss 0.408754 | valid acc 0.823858 |\n",
            "| epoch 36 | train loss 0.391452 | train acc 0.838625 | valid loss 0.406832 | valid acc 0.822926 |\n",
            "| epoch 37 | train loss 0.389328 | train acc 0.838625 | valid loss 0.405008 | valid acc 0.822926 |\n",
            "| epoch 38 | train loss 0.387293 | train acc 0.838625 | valid loss 0.403273 | valid acc 0.822926 |\n",
            "| epoch 39 | train loss 0.385336 | train acc 0.838789 | valid loss 0.401619 | valid acc 0.823858 |\n",
            "| epoch 40 | train loss 0.383449 | train acc 0.838789 | valid loss 0.400038 | valid acc 0.823858 |\n",
            "| epoch 41 | train loss 0.381624 | train acc 0.838789 | valid loss 0.398525 | valid acc 0.823858 |\n",
            "| epoch 42 | train loss 0.379858 | train acc 0.838789 | valid loss 0.397074 | valid acc 0.823858 |\n",
            "| epoch 43 | train loss 0.378146 | train acc 0.838789 | valid loss 0.395680 | valid acc 0.823858 |\n",
            "| epoch 44 | train loss 0.376486 | train acc 0.838789 | valid loss 0.394337 | valid acc 0.823858 |\n",
            "| epoch 45 | train loss 0.374876 | train acc 0.838789 | valid loss 0.393041 | valid acc 0.823858 |\n",
            "| epoch 46 | train loss 0.373313 | train acc 0.840928 | valid loss 0.391787 | valid acc 0.825722 |\n",
            "| epoch 47 | train loss 0.371796 | train acc 0.840928 | valid loss 0.390572 | valid acc 0.825722 |\n",
            "| epoch 48 | train loss 0.370323 | train acc 0.844382 | valid loss 0.389393 | valid acc 0.830382 |\n",
            "| epoch 49 | train loss 0.368895 | train acc 0.844711 | valid loss 0.388248 | valid acc 0.830382 |\n",
            "| epoch 50 | train loss 0.367507 | train acc 0.844876 | valid loss 0.387133 | valid acc 0.831314 |\n"
          ]
        }
      ]
    },
    {
      "cell_type": "code",
      "source": [
        "one_train_loss, one_valid_loss, one_train_acc, one_valid_acc = results_one\n",
        "two_train_loss, two_valid_loss, two_train_acc, two_valid_acc = results_two\n",
        "\n",
        "\n",
        "#create list for the number of epochs\n",
        "epochs = [x for x in range(1, num_epochs + 1)]\n",
        "\n",
        "#plot the training and validation loss for both NN and add their labels\n",
        "plot1 = plt.plot(epochs, one_train_loss, label = \"1 Layer NN Train Loss\")\n",
        "plot1 = plt.plot(epochs, one_valid_loss, label = \"1 Layer NN Val Loss\")\n",
        "plot1 = plt.plot(epochs, two_train_loss, label = \"2 Layer NN Train Loss\")\n",
        "plot1 = plt.plot(epochs, two_valid_loss, label = \"2 Layer NN Val Loss\")\n",
        "#lable the axis and create the legend\n",
        "plt.xlabel(\"Number of Epochs\")\n",
        "plt.ylabel(\"Loss\")\n",
        "plt.title(\"Train and Val Loss vs Epochs\")\n",
        "plt.legend()\n",
        "\n",
        "plt.figure()\n",
        "\n",
        "\n",
        "\n",
        "\n",
        "#plot the training and validatoin loss for training and validation accuracy for both the 1 and 2 layer networks\n",
        "plot2 = plt.plot(epochs, one_train_acc, label = \"1 Layer NN Train Acc\")\n",
        "plot2 = plt.plot(epochs, one_valid_acc, label = \"1 Layer NN Val Acc\")\n",
        "plot2 = plt.plot(epochs, two_train_acc, label = \"2 Layer NN Train Acc\")\n",
        "plot2 = plt.plot(epochs, two_valid_acc, label = \"2 Layer NN Val Loss\")\n",
        "#lable the axis and create the legend\n",
        "plt.xlabel(\"Number of Epochs\")\n",
        "plt.ylabel(\"Accuracy\")\n",
        "plt.title(\"Train and Val Acc vs Epochs\")\n",
        "plt.legend()\n"
      ],
      "metadata": {
        "id": "ER3Dc8A6ZEgk",
        "colab": {
          "base_uri": "https://localhost:8080/",
          "height": 591
        },
        "outputId": "86d401ca-1332-4e7f-ae69-ca6c0ec431ac"
      },
      "execution_count": null,
      "outputs": [
        {
          "output_type": "execute_result",
          "data": {
            "text/plain": [
              "<matplotlib.legend.Legend at 0x7fb3861f5c90>"
            ]
          },
          "metadata": {},
          "execution_count": 158
        },
        {
          "output_type": "display_data",
          "data": {
            "text/plain": [
              "<Figure size 432x288 with 1 Axes>"
            ],
            "image/png": "[encoded data removed]"
          },
          "metadata": {
            "needs_background": "light"
          }
        },
        {
          "output_type": "display_data",
          "data": {
            "text/plain": [
              "<Figure size 432x288 with 1 Axes>"
            ],
            "image/png": "[encoded data removed]"
          },
          "metadata": {
            "needs_background": "light"
          }
        }
      ]
    },
    {
      "cell_type": "code",
      "source": [
        "#Evaluate the test accuracies for both the models. Explain the behavior\n",
        "\n",
        "#calculate and print the test accuracy for both models using evaluate_acc\n",
        "test_one_acc = evaluate_acc(oneLayerNN, test_loader)\n",
        "test_two_acc = evaluate_acc(twoLayerNN, test_loader)\n",
        "\n",
        "print(f\"Test acc for one layer nn is {test_one_acc}\")\n",
        "print(f\"Test acc for two layer nn is {test_two_acc}\")\n"
      ],
      "metadata": {
        "id": "fGGl9NZPAXrn",
        "colab": {
          "base_uri": "https://localhost:8080/"
        },
        "outputId": "485810c8-61a7-4aa2-eea8-71878f2f3f5b"
      },
      "execution_count": null,
      "outputs": [
        {
          "output_type": "stream",
          "name": "stdout",
          "text": [
            "Test acc for one layer nn is 0.7783056497573853\n",
            "Test acc for two layer nn is 0.8353127241134644\n"
          ]
        }
      ]
    },
    {
      "cell_type": "code",
      "source": [
        "def get_confusion_matrix(model, dataloader):\n",
        "    \n",
        "\n",
        "    model.eval()\n",
        "\n",
        "    #create a list for the y predictions and the true y values\n",
        "    y_pred = []\n",
        "    y_true = []\n",
        "    #iterate over each batch for the given data loader\n",
        "    for batch_X, batch_y in dataloader:\n",
        "        outputs = model(batch_X)\n",
        "        #if the out put is greater than .5 then predict it as a y = 1 value\n",
        "        pred_curr_batch = (outputs > 0.5).long()\n",
        "        y_pred += pred_curr_batch.tolist()\n",
        "        y_true += batch_y.tolist()\n",
        "\n",
        "    #create the confusion matrix using the true and predicted y vals\n",
        "    cm = confusion_matrix(y_true, y_pred)\n",
        "\n",
        "    return cm"
      ],
      "metadata": {
        "id": "vQJA_mgPvv_L"
      },
      "execution_count": null,
      "outputs": []
    },
    {
      "cell_type": "code",
      "source": [
        "oneLayerNN_cm = get_confusion_matrix(oneLayerNN, val_loader)\n",
        "twoLayerNN_cm = get_confusion_matrix(twoLayerNN, val_loader)\n",
        "\n",
        "print (\"Confusion Matrix for One Layer NN\")\n",
        "print (oneLayerNN_cm)\n",
        "\n",
        "print (\"Confusion Matrix for Two Layer NN\")\n",
        "print (twoLayerNN_cm)"
      ],
      "metadata": {
        "id": "QK3ZLMa2ERaP",
        "colab": {
          "base_uri": "https://localhost:8080/"
        },
        "outputId": "6c84259a-8c5b-414f-9215-8f967ddd5515"
      },
      "execution_count": null,
      "outputs": [
        {
          "output_type": "stream",
          "name": "stdout",
          "text": [
            "Confusion Matrix for One Layer NN\n",
            "[[358 164]\n",
            " [ 85 466]]\n",
            "Confusion Matrix for Two Layer NN\n",
            "[[387 135]\n",
            " [ 46 505]]\n"
          ]
        }
      ]
    },
    {
      "cell_type": "code",
      "source": [
        "## Define hyperparameters\n",
        "lr = 0.001\n",
        "hidden_size = 20\n",
        "activation = 'sigmoid'\n",
        "num_epochs = 150\n",
        "\n",
        "## Init models\n",
        "twoLayerNN_new, criterion, optimizer = init_twoLayerNN(X_train.shape[1], hidden_size, activation, lr=lr)\n",
        "results_two_new = train(twoLayerNN_new, criterion, optimizer, train_loader, val_loader, num_epochs=num_epochs)\n",
        "\n",
        "\n",
        "# get data from the new results\n",
        "two_train_loss_new, two_valid_loss_new, two_train_acc_new, two_valid_acc_new = results_two_new\n",
        "\n",
        "# plot the resutls for the loss for the old and new NN\n",
        "\n",
        "epochs_new = [x for x in range(1, num_epochs + 1)]\n",
        "\n",
        "plt.plot(epochs, two_train_loss, label = \"Old 2 Layer NN Train Loss\")\n",
        "plt.plot(epochs, two_valid_loss, label = \"Old 2 Layer NN Val Loss\")\n",
        "plt.plot(epochs_new, two_train_loss_new, label = \"New 2 Layer NN Train Loss\")\n",
        "plt.plot(epochs_new, two_valid_loss_new, label = \"New 2 Layer NN Val Loss\")\n",
        "#lable the axis and create the legend\n",
        "plt.xlabel(\"Number of Epochs\")\n",
        "plt.ylabel(\"Loss\")\n",
        "plt.title(\"Train and Val Loss vs Epochs for Old and New NN\")\n",
        "plt.legend()\n",
        "\n",
        "plt.figure()\n",
        "\n",
        "plt.plot(epochs, two_train_acc, label = \"Old 2 Layer NN Train Acc\")\n",
        "plt.plot(epochs, two_valid_acc, label = \"Old 2 Layer NN Val Acc\")\n",
        "plt.plot(epochs_new, two_train_acc_new, label = \"New 2 Layer NN Train Acc\")\n",
        "plt.plot(epochs_new, two_valid_acc_new, label = \"New 2 Layer NN Val Loss\")\n",
        "#lable the axis and create the legend\n",
        "plt.xlabel(\"Number of Epochs\")\n",
        "plt.ylabel(\"Accuracy\")\n",
        "plt.title(\"Train and Val Acc vs Epochs for Old and New NN\")\n",
        "plt.legend()\n",
        "\n",
        "\n",
        "# find the test accuracy for model based on the new hyper parameters\n",
        "new_test_two_acc = evaluate_acc(twoLayerNN_new, test_loader)\n",
        "\n",
        "print(f\"Test acc for the new two layer nn is {new_test_two_acc}\")\n",
        "print(f\"Test acc for the old two layer nn is {test_two_acc}\")\n"
      ],
      "metadata": {
        "id": "4VSQeomuW7BA",
        "colab": {
          "base_uri": "https://localhost:8080/",
          "height": 1000
        },
        "outputId": "10940db4-f48f-49f5-e6ed-7eafbcf7fee9"
      },
      "execution_count": null,
      "outputs": [
        {
          "output_type": "stream",
          "name": "stdout",
          "text": [
            "Start training model...\n",
            "| epoch  1 | train loss 0.659122 | train acc 0.634150 | valid loss 0.660634 | valid acc 0.645853 |\n",
            "| epoch  2 | train loss 0.625759 | train acc 0.643527 | valid loss 0.623605 | valid acc 0.643989 |\n",
            "| epoch  3 | train loss 0.594285 | train acc 0.708998 | valid loss 0.592174 | valid acc 0.708295 |\n",
            "| epoch  4 | train loss 0.564014 | train acc 0.744530 | valid loss 0.563553 | valid acc 0.751165 |\n",
            "| epoch  5 | train loss 0.539472 | train acc 0.770192 | valid loss 0.540712 | valid acc 0.771668 |\n",
            "| epoch  6 | train loss 0.521528 | train acc 0.771344 | valid loss 0.524155 | valid acc 0.770736 |\n",
            "| epoch  7 | train loss 0.508347 | train acc 0.759664 | valid loss 0.512117 | valid acc 0.759553 |\n",
            "| epoch  8 | train loss 0.498011 | train acc 0.758842 | valid loss 0.502775 | valid acc 0.759553 |\n",
            "| epoch  9 | train loss 0.489279 | train acc 0.768383 | valid loss 0.494943 | valid acc 0.767008 |\n",
            "| epoch 10 | train loss 0.481470 | train acc 0.769534 | valid loss 0.487968 | valid acc 0.767940 |\n",
            "| epoch 11 | train loss 0.474237 | train acc 0.784340 | valid loss 0.481519 | valid acc 0.783784 |\n",
            "| epoch 12 | train loss 0.467417 | train acc 0.783024 | valid loss 0.475445 | valid acc 0.780988 |\n",
            "| epoch 13 | train loss 0.460945 | train acc 0.784833 | valid loss 0.469693 | valid acc 0.782852 |\n",
            "| epoch 14 | train loss 0.454808 | train acc 0.782530 | valid loss 0.464260 | valid acc 0.782852 |\n",
            "| epoch 15 | train loss 0.449013 | train acc 0.807205 | valid loss 0.459155 | valid acc 0.799627 |\n",
            "| epoch 16 | train loss 0.443564 | train acc 0.815595 | valid loss 0.454388 | valid acc 0.808015 |\n",
            "| epoch 17 | train loss 0.438463 | train acc 0.819049 | valid loss 0.449956 | valid acc 0.814539 |\n",
            "| epoch 18 | train loss 0.433704 | train acc 0.832867 | valid loss 0.445851 | valid acc 0.826654 |\n",
            "| epoch 19 | train loss 0.429274 | train acc 0.841915 | valid loss 0.442056 | valid acc 0.838770 |\n",
            "| epoch 20 | train loss 0.425156 | train acc 0.841915 | valid loss 0.438550 | valid acc 0.838770 |\n",
            "| epoch 21 | train loss 0.421331 | train acc 0.841915 | valid loss 0.435308 | valid acc 0.838770 |\n",
            "| epoch 22 | train loss 0.417774 | train acc 0.841915 | valid loss 0.432307 | valid acc 0.838770 |\n",
            "| epoch 23 | train loss 0.414461 | train acc 0.844218 | valid loss 0.429520 | valid acc 0.838770 |\n",
            "| epoch 24 | train loss 0.411367 | train acc 0.851127 | valid loss 0.426925 | valid acc 0.836906 |\n",
            "| epoch 25 | train loss 0.408467 | train acc 0.854252 | valid loss 0.424496 | valid acc 0.840634 |\n",
            "| epoch 26 | train loss 0.405735 | train acc 0.854581 | valid loss 0.422211 | valid acc 0.839702 |\n",
            "| epoch 27 | train loss 0.403148 | train acc 0.855568 | valid loss 0.420049 | valid acc 0.840634 |\n",
            "| epoch 28 | train loss 0.400682 | train acc 0.855568 | valid loss 0.417988 | valid acc 0.840634 |\n",
            "| epoch 29 | train loss 0.398316 | train acc 0.855239 | valid loss 0.416011 | valid acc 0.839702 |\n",
            "| epoch 30 | train loss 0.396034 | train acc 0.855239 | valid loss 0.414103 | valid acc 0.839702 |\n",
            "| epoch 31 | train loss 0.393822 | train acc 0.855239 | valid loss 0.412253 | valid acc 0.839702 |\n",
            "| epoch 32 | train loss 0.391669 | train acc 0.855239 | valid loss 0.410452 | valid acc 0.839702 |\n",
            "| epoch 33 | train loss 0.389572 | train acc 0.855239 | valid loss 0.408697 | valid acc 0.839702 |\n",
            "| epoch 34 | train loss 0.387527 | train acc 0.858200 | valid loss 0.406984 | valid acc 0.844362 |\n",
            "| epoch 35 | train loss 0.385533 | train acc 0.858200 | valid loss 0.405313 | valid acc 0.844362 |\n",
            "| epoch 36 | train loss 0.383592 | train acc 0.858200 | valid loss 0.403682 | valid acc 0.844362 |\n",
            "| epoch 37 | train loss 0.381701 | train acc 0.858200 | valid loss 0.402093 | valid acc 0.844362 |\n",
            "| epoch 38 | train loss 0.379861 | train acc 0.858200 | valid loss 0.400542 | valid acc 0.844362 |\n",
            "| epoch 39 | train loss 0.378070 | train acc 0.860174 | valid loss 0.399029 | valid acc 0.845294 |\n",
            "| epoch 40 | train loss 0.376324 | train acc 0.860174 | valid loss 0.397549 | valid acc 0.845294 |\n",
            "| epoch 41 | train loss 0.374617 | train acc 0.860174 | valid loss 0.396099 | valid acc 0.845294 |\n",
            "| epoch 42 | train loss 0.372945 | train acc 0.860174 | valid loss 0.394673 | valid acc 0.845294 |\n",
            "| epoch 43 | train loss 0.371299 | train acc 0.859352 | valid loss 0.393266 | valid acc 0.839702 |\n",
            "| epoch 44 | train loss 0.369672 | train acc 0.860174 | valid loss 0.391870 | valid acc 0.845294 |\n",
            "| epoch 45 | train loss 0.368055 | train acc 0.860339 | valid loss 0.390480 | valid acc 0.846226 |\n",
            "| epoch 46 | train loss 0.366437 | train acc 0.860503 | valid loss 0.389089 | valid acc 0.847157 |\n",
            "| epoch 47 | train loss 0.364812 | train acc 0.861819 | valid loss 0.387695 | valid acc 0.852749 |\n",
            "| epoch 48 | train loss 0.363176 | train acc 0.862148 | valid loss 0.386299 | valid acc 0.852749 |\n",
            "| epoch 49 | train loss 0.361530 | train acc 0.862148 | valid loss 0.384910 | valid acc 0.852749 |\n",
            "| epoch 50 | train loss 0.359884 | train acc 0.862148 | valid loss 0.383541 | valid acc 0.852749 |\n",
            "| epoch 51 | train loss 0.358248 | train acc 0.862148 | valid loss 0.382201 | valid acc 0.852749 |\n",
            "| epoch 52 | train loss 0.356628 | train acc 0.862148 | valid loss 0.380893 | valid acc 0.852749 |\n",
            "| epoch 53 | train loss 0.355030 | train acc 0.862148 | valid loss 0.379618 | valid acc 0.852749 |\n",
            "| epoch 54 | train loss 0.353455 | train acc 0.863629 | valid loss 0.378372 | valid acc 0.853681 |\n",
            "| epoch 55 | train loss 0.351905 | train acc 0.864122 | valid loss 0.377151 | valid acc 0.854613 |\n",
            "| epoch 56 | train loss 0.350380 | train acc 0.864122 | valid loss 0.375955 | valid acc 0.854613 |\n",
            "| epoch 57 | train loss 0.348883 | train acc 0.864122 | valid loss 0.374783 | valid acc 0.854613 |\n",
            "| epoch 58 | train loss 0.347415 | train acc 0.864780 | valid loss 0.373634 | valid acc 0.854613 |\n",
            "| epoch 59 | train loss 0.345976 | train acc 0.864945 | valid loss 0.372510 | valid acc 0.855545 |\n",
            "| epoch 60 | train loss 0.344567 | train acc 0.863464 | valid loss 0.371410 | valid acc 0.852749 |\n",
            "| epoch 61 | train loss 0.343190 | train acc 0.863464 | valid loss 0.370336 | valid acc 0.852749 |\n",
            "| epoch 62 | train loss 0.341845 | train acc 0.863464 | valid loss 0.369288 | valid acc 0.852749 |\n",
            "| epoch 63 | train loss 0.340532 | train acc 0.863464 | valid loss 0.368265 | valid acc 0.852749 |\n",
            "| epoch 64 | train loss 0.339251 | train acc 0.863464 | valid loss 0.367268 | valid acc 0.852749 |\n",
            "| epoch 65 | train loss 0.338001 | train acc 0.863958 | valid loss 0.366296 | valid acc 0.853681 |\n",
            "| epoch 66 | train loss 0.336784 | train acc 0.863958 | valid loss 0.365349 | valid acc 0.853681 |\n",
            "| epoch 67 | train loss 0.335597 | train acc 0.864287 | valid loss 0.364427 | valid acc 0.853681 |\n",
            "| epoch 68 | train loss 0.334442 | train acc 0.864287 | valid loss 0.363528 | valid acc 0.853681 |\n",
            "| epoch 69 | train loss 0.333318 | train acc 0.864287 | valid loss 0.362653 | valid acc 0.853681 |\n",
            "| epoch 70 | train loss 0.332224 | train acc 0.864287 | valid loss 0.361801 | valid acc 0.853681 |\n",
            "| epoch 71 | train loss 0.331161 | train acc 0.865109 | valid loss 0.360972 | valid acc 0.854613 |\n",
            "| epoch 72 | train loss 0.330127 | train acc 0.865109 | valid loss 0.360166 | valid acc 0.854613 |\n",
            "| epoch 73 | train loss 0.329123 | train acc 0.865109 | valid loss 0.359381 | valid acc 0.854613 |\n",
            "| epoch 74 | train loss 0.328149 | train acc 0.865109 | valid loss 0.358617 | valid acc 0.854613 |\n",
            "| epoch 75 | train loss 0.327204 | train acc 0.865109 | valid loss 0.357874 | valid acc 0.854613 |\n",
            "| epoch 76 | train loss 0.326287 | train acc 0.865767 | valid loss 0.357150 | valid acc 0.855545 |\n",
            "| epoch 77 | train loss 0.325398 | train acc 0.865767 | valid loss 0.356446 | valid acc 0.855545 |\n",
            "| epoch 78 | train loss 0.324536 | train acc 0.865767 | valid loss 0.355760 | valid acc 0.855545 |\n",
            "| epoch 79 | train loss 0.323701 | train acc 0.869715 | valid loss 0.355092 | valid acc 0.856477 |\n",
            "| epoch 80 | train loss 0.322891 | train acc 0.870373 | valid loss 0.354441 | valid acc 0.856477 |\n",
            "| epoch 81 | train loss 0.322107 | train acc 0.870702 | valid loss 0.353806 | valid acc 0.856477 |\n",
            "| epoch 82 | train loss 0.321346 | train acc 0.870702 | valid loss 0.353187 | valid acc 0.856477 |\n",
            "| epoch 83 | train loss 0.320608 | train acc 0.870702 | valid loss 0.352583 | valid acc 0.856477 |\n",
            "| epoch 84 | train loss 0.319892 | train acc 0.870702 | valid loss 0.351992 | valid acc 0.856477 |\n",
            "| epoch 85 | train loss 0.319197 | train acc 0.873663 | valid loss 0.351416 | valid acc 0.862069 |\n",
            "| epoch 86 | train loss 0.318521 | train acc 0.877940 | valid loss 0.350851 | valid acc 0.863933 |\n",
            "| epoch 87 | train loss 0.317864 | train acc 0.877940 | valid loss 0.350298 | valid acc 0.863933 |\n",
            "| epoch 88 | train loss 0.317224 | train acc 0.878269 | valid loss 0.349756 | valid acc 0.864865 |\n",
            "| epoch 89 | train loss 0.316600 | train acc 0.878269 | valid loss 0.349224 | valid acc 0.864865 |\n",
            "| epoch 90 | train loss 0.315990 | train acc 0.878269 | valid loss 0.348701 | valid acc 0.864865 |\n",
            "| epoch 91 | train loss 0.315392 | train acc 0.878269 | valid loss 0.348187 | valid acc 0.864865 |\n",
            "| epoch 92 | train loss 0.314806 | train acc 0.878269 | valid loss 0.347680 | valid acc 0.864865 |\n",
            "| epoch 93 | train loss 0.314231 | train acc 0.879750 | valid loss 0.347180 | valid acc 0.866729 |\n",
            "| epoch 94 | train loss 0.313664 | train acc 0.879256 | valid loss 0.346688 | valid acc 0.865797 |\n",
            "| epoch 95 | train loss 0.313107 | train acc 0.879256 | valid loss 0.346203 | valid acc 0.865797 |\n",
            "| epoch 96 | train loss 0.312560 | train acc 0.879256 | valid loss 0.345726 | valid acc 0.865797 |\n",
            "| epoch 97 | train loss 0.312021 | train acc 0.879256 | valid loss 0.345256 | valid acc 0.865797 |\n",
            "| epoch 98 | train loss 0.311493 | train acc 0.879256 | valid loss 0.344795 | valid acc 0.865797 |\n",
            "| epoch 99 | train loss 0.310976 | train acc 0.879256 | valid loss 0.344342 | valid acc 0.865797 |\n",
            "| epoch 100 | train loss 0.310470 | train acc 0.879256 | valid loss 0.343897 | valid acc 0.865797 |\n",
            "| epoch 101 | train loss 0.309975 | train acc 0.881230 | valid loss 0.343461 | valid acc 0.868593 |\n",
            "| epoch 102 | train loss 0.309493 | train acc 0.881230 | valid loss 0.343034 | valid acc 0.868593 |\n",
            "| epoch 103 | train loss 0.309022 | train acc 0.881230 | valid loss 0.342616 | valid acc 0.868593 |\n",
            "| epoch 104 | train loss 0.308564 | train acc 0.881230 | valid loss 0.342207 | valid acc 0.868593 |\n",
            "| epoch 105 | train loss 0.308117 | train acc 0.881230 | valid loss 0.341807 | valid acc 0.868593 |\n",
            "| epoch 106 | train loss 0.307682 | train acc 0.881230 | valid loss 0.341415 | valid acc 0.868593 |\n",
            "| epoch 107 | train loss 0.307258 | train acc 0.881230 | valid loss 0.341033 | valid acc 0.868593 |\n",
            "| epoch 108 | train loss 0.306845 | train acc 0.881230 | valid loss 0.340658 | valid acc 0.868593 |\n",
            "| epoch 109 | train loss 0.306442 | train acc 0.881230 | valid loss 0.340293 | valid acc 0.868593 |\n",
            "| epoch 110 | train loss 0.306049 | train acc 0.881230 | valid loss 0.339935 | valid acc 0.869525 |\n",
            "| epoch 111 | train loss 0.305665 | train acc 0.881230 | valid loss 0.339586 | valid acc 0.869525 |\n",
            "| epoch 112 | train loss 0.305290 | train acc 0.881230 | valid loss 0.339245 | valid acc 0.869525 |\n",
            "| epoch 113 | train loss 0.304924 | train acc 0.881230 | valid loss 0.338911 | valid acc 0.869525 |\n",
            "| epoch 114 | train loss 0.304564 | train acc 0.881230 | valid loss 0.338584 | valid acc 0.869525 |\n",
            "| epoch 115 | train loss 0.304212 | train acc 0.881230 | valid loss 0.338264 | valid acc 0.869525 |\n",
            "| epoch 116 | train loss 0.303867 | train acc 0.881230 | valid loss 0.337951 | valid acc 0.869525 |\n",
            "| epoch 117 | train loss 0.303527 | train acc 0.882876 | valid loss 0.337644 | valid acc 0.872321 |\n",
            "| epoch 118 | train loss 0.303193 | train acc 0.882876 | valid loss 0.337343 | valid acc 0.872321 |\n",
            "| epoch 119 | train loss 0.302863 | train acc 0.882876 | valid loss 0.337048 | valid acc 0.872321 |\n",
            "| epoch 120 | train loss 0.302538 | train acc 0.882876 | valid loss 0.336757 | valid acc 0.872321 |\n",
            "| epoch 121 | train loss 0.302217 | train acc 0.882876 | valid loss 0.336471 | valid acc 0.872321 |\n",
            "| epoch 122 | train loss 0.301899 | train acc 0.882876 | valid loss 0.336189 | valid acc 0.872321 |\n",
            "| epoch 123 | train loss 0.301587 | train acc 0.882876 | valid loss 0.335910 | valid acc 0.872321 |\n",
            "| epoch 124 | train loss 0.301278 | train acc 0.882876 | valid loss 0.335635 | valid acc 0.872321 |\n",
            "| epoch 125 | train loss 0.300976 | train acc 0.882876 | valid loss 0.335362 | valid acc 0.872321 |\n",
            "| epoch 126 | train loss 0.300679 | train acc 0.882876 | valid loss 0.335092 | valid acc 0.872321 |\n",
            "| epoch 127 | train loss 0.300388 | train acc 0.882876 | valid loss 0.334825 | valid acc 0.872321 |\n",
            "| epoch 128 | train loss 0.300105 | train acc 0.882876 | valid loss 0.334559 | valid acc 0.872321 |\n",
            "| epoch 129 | train loss 0.299827 | train acc 0.882876 | valid loss 0.334296 | valid acc 0.872321 |\n",
            "| epoch 130 | train loss 0.299556 | train acc 0.882876 | valid loss 0.334035 | valid acc 0.872321 |\n",
            "| epoch 131 | train loss 0.299291 | train acc 0.882876 | valid loss 0.333775 | valid acc 0.872321 |\n",
            "| epoch 132 | train loss 0.299031 | train acc 0.882876 | valid loss 0.333516 | valid acc 0.872321 |\n",
            "| epoch 133 | train loss 0.298775 | train acc 0.882876 | valid loss 0.333259 | valid acc 0.872321 |\n",
            "| epoch 134 | train loss 0.298524 | train acc 0.882876 | valid loss 0.333003 | valid acc 0.872321 |\n",
            "| epoch 135 | train loss 0.298277 | train acc 0.882876 | valid loss 0.332749 | valid acc 0.872321 |\n",
            "| epoch 136 | train loss 0.298033 | train acc 0.882876 | valid loss 0.332497 | valid acc 0.872321 |\n",
            "| epoch 137 | train loss 0.297793 | train acc 0.882876 | valid loss 0.332245 | valid acc 0.872321 |\n",
            "| epoch 138 | train loss 0.297555 | train acc 0.882876 | valid loss 0.331995 | valid acc 0.872321 |\n",
            "| epoch 139 | train loss 0.297321 | train acc 0.882876 | valid loss 0.331747 | valid acc 0.872321 |\n",
            "| epoch 140 | train loss 0.297088 | train acc 0.882876 | valid loss 0.331500 | valid acc 0.872321 |\n",
            "| epoch 141 | train loss 0.296858 | train acc 0.882876 | valid loss 0.331255 | valid acc 0.872321 |\n",
            "| epoch 142 | train loss 0.296631 | train acc 0.882876 | valid loss 0.331010 | valid acc 0.872321 |\n",
            "| epoch 143 | train loss 0.296405 | train acc 0.883204 | valid loss 0.330767 | valid acc 0.872321 |\n",
            "| epoch 144 | train loss 0.296181 | train acc 0.883204 | valid loss 0.330525 | valid acc 0.872321 |\n",
            "| epoch 145 | train loss 0.295959 | train acc 0.883204 | valid loss 0.330284 | valid acc 0.872321 |\n",
            "| epoch 146 | train loss 0.295739 | train acc 0.885014 | valid loss 0.330044 | valid acc 0.874185 |\n",
            "| epoch 147 | train loss 0.295520 | train acc 0.885014 | valid loss 0.329805 | valid acc 0.874185 |\n",
            "| epoch 148 | train loss 0.295302 | train acc 0.885014 | valid loss 0.329567 | valid acc 0.874185 |\n",
            "| epoch 149 | train loss 0.295086 | train acc 0.885014 | valid loss 0.329329 | valid acc 0.874185 |\n",
            "| epoch 150 | train loss 0.294871 | train acc 0.885014 | valid loss 0.329092 | valid acc 0.874185 |\n",
            "Test acc for the new two layer nn is 0.8820269107818604\n",
            "Test acc for the old two layer nn is 0.8353127241134644\n"
          ]
        },
        {
          "output_type": "display_data",
          "data": {
            "text/plain": [
              "<Figure size 432x288 with 1 Axes>"
            ],
            "image/png": "[encoded data removed]"
          },
          "metadata": {
            "needs_background": "light"
          }
        },
        {
          "output_type": "display_data",
          "data": {
            "text/plain": [
              "<Figure size 432x288 with 1 Axes>"
            ],
            "image/png": "[encoded data removed]"
          },
          "metadata": {
            "needs_background": "light"
          }
        }
      ]
    }
  ]
}